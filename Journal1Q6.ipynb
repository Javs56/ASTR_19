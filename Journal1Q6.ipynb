{
 "cells": [
  {
   "cell_type": "code",
   "execution_count": 37,
   "id": "a895c838-fa45-4bac-ad7c-2204aef8d2d8",
   "metadata": {
    "tags": []
   },
   "outputs": [
    {
     "data": {
      "text/plain": [
       "0.9129452507276276"
      ]
     },
     "execution_count": 37,
     "metadata": {},
     "output_type": "execute_result"
    }
   ],
   "source": [
    "import numpy as np\n",
    "\n",
    "def sinx(x):\n",
    "    return np.sin(x)\n",
    "\n",
    "sinx(x)\n",
    "\n",
    "    "
   ]
  },
  {
   "cell_type": "markdown",
   "id": "a1aa58a5-d739-43ce-9121-0969c0763aab",
   "metadata": {},
   "source": [
    "This function gives the sin of x "
   ]
  },
  {
   "cell_type": "code",
   "execution_count": 40,
   "id": "72cfe1a8-1b35-4e33-876e-07a7a27119f0",
   "metadata": {},
   "outputs": [
    {
     "data": {
      "text/plain": [
       "0.40808206181339196"
      ]
     },
     "execution_count": 40,
     "metadata": {},
     "output_type": "execute_result"
    }
   ],
   "source": [
    "def cosx(x):\n",
    "    return np.cos(x)\n",
    "cosx(x)\n",
    "\n"
   ]
  },
  {
   "cell_type": "markdown",
   "id": "678efc5e-85ce-456f-b9b6-12fcf60687c8",
   "metadata": {},
   "source": [
    "This function gives the cosine of x"
   ]
  },
  {
   "cell_type": "code",
   "execution_count": 42,
   "id": "c10fb6a8-53af-43e7-9ff5-d2ab5dbb8ece",
   "metadata": {},
   "outputs": [
    {
     "name": "stdout",
     "output_type": "stream",
     "text": [
      "1000\n",
      "        sin(x)               cos(x)                x          \n",
      "---------------------- ------------------ --------------------\n",
      "                   0.0                1.0                  0.0\n",
      "  0.006283143965558951 0.9999802608561372 0.006283185307179587\n",
      "  0.012566039883352607 0.9999210442038163 0.012566370614359173\n",
      "  0.018848439715408175 0.9998223523808092  0.01884955592153876\n",
      "   0.02513009544333748 0.9996841892833003 0.025132741228718346\n",
      "    0.0314107590781283 0.9995065603657317 0.031415926535897934\n",
      "   0.03769018266993454 0.9992894726405894  0.03769911184307752\n",
      "   0.04396811831786491 0.9990329346781248  0.04398229715025711\n",
      "  0.050244318179769556 0.9987369566060176  0.05026548245743669\n",
      "   0.05651853448202453 0.9984015501089751  0.05654866776461628\n",
      "                   ...                ...                  ...\n",
      "  -0.06906002571440531 0.9976125063612252   6.2140702688006115\n",
      "  -0.06279051952931326 0.9980267284282717    6.220353454107791\n",
      " -0.056518534482024804 0.9984015501089751     6.22663663941497\n",
      " -0.050244318179769334 0.9987369566060176     6.23291982472215\n",
      " -0.043968118317865075 0.9990329346781248    6.239203010029329\n",
      " -0.037690182669934215 0.9992894726405893    6.245486195336509\n",
      "  -0.03141075907812836 0.9995065603657317   6.2517693806436885\n",
      "  -0.02513009544333705 0.9996841892833003    6.258052565950869\n",
      " -0.018848439715408137 0.9998223523808092    6.264335751258048\n",
      "  -0.01256603988335207 0.9999210442038163    6.270618936565228\n",
      "-0.0062831439655588045 0.9999802608561371    6.276902121872407\n",
      "Length = 1000 rows\n"
     ]
    }
   ],
   "source": [
    "from astropy.table import Table\n",
    "twopi = 2 * np.pi\n",
    "data = np.arange(0, twopi, twopi/1000)\n",
    "print(data.size)\n",
    "table = Table([sinx(data),cosx(data),data],names=['sin(x)','cos(x)','x'])\n",
    "print(table)\n"
   ]
  },
  {
   "cell_type": "code",
   "execution_count": 52,
   "id": "2ff2a076-532b-4401-84a5-82e7fb07ea07",
   "metadata": {},
   "outputs": [
    {
     "name": "stdout",
     "output_type": "stream",
     "text": [
      "        sin(x)        \n",
      "----------------------\n",
      "                   0.0\n",
      "  0.006283143965558951\n",
      "  0.012566039883352607\n",
      "  0.018848439715408175\n",
      "   0.02513009544333748\n",
      "    0.0314107590781283\n",
      "   0.03769018266993454\n",
      "   0.04396811831786491\n",
      "  0.050244318179769556\n",
      "   0.05651853448202453\n",
      "                   ...\n",
      "  -0.06906002571440531\n",
      "  -0.06279051952931326\n",
      " -0.056518534482024804\n",
      " -0.050244318179769334\n",
      " -0.043968118317865075\n",
      " -0.037690182669934215\n",
      "  -0.03141075907812836\n",
      "  -0.02513009544333705\n",
      " -0.018848439715408137\n",
      "  -0.01256603988335207\n",
      "-0.0062831439655588045\n",
      "Length = 1000 rows\n",
      "      cos(x)      \n",
      "------------------\n",
      "               1.0\n",
      "0.9999802608561372\n",
      "0.9999210442038163\n",
      "0.9998223523808092\n",
      "0.9996841892833003\n",
      "0.9995065603657317\n",
      "0.9992894726405894\n",
      "0.9990329346781248\n",
      "0.9987369566060176\n",
      "0.9984015501089751\n",
      "               ...\n",
      "0.9976125063612252\n",
      "0.9980267284282717\n",
      "0.9984015501089751\n",
      "0.9987369566060176\n",
      "0.9990329346781248\n",
      "0.9992894726405893\n",
      "0.9995065603657317\n",
      "0.9996841892833003\n",
      "0.9998223523808092\n",
      "0.9999210442038163\n",
      "0.9999802608561371\n",
      "Length = 1000 rows\n",
      "         x          \n",
      "--------------------\n",
      "                 0.0\n",
      "0.006283185307179587\n",
      "0.012566370614359173\n",
      " 0.01884955592153876\n",
      "0.025132741228718346\n",
      "0.031415926535897934\n",
      " 0.03769911184307752\n",
      " 0.04398229715025711\n",
      " 0.05026548245743669\n",
      " 0.05654866776461628\n",
      "                 ...\n",
      "  6.2140702688006115\n",
      "   6.220353454107791\n",
      "    6.22663663941497\n",
      "    6.23291982472215\n",
      "   6.239203010029329\n",
      "   6.245486195336509\n",
      "  6.2517693806436885\n",
      "   6.258052565950869\n",
      "   6.264335751258048\n",
      "   6.270618936565228\n",
      "   6.276902121872407\n",
      "Length = 1000 rows\n"
     ]
    },
    {
     "ename": "IndexError",
     "evalue": "list index out of range",
     "output_type": "error",
     "traceback": [
      "\u001b[0;31m---------------------------------------------------------------------------\u001b[0m",
      "\u001b[0;31mTypeError\u001b[0m                                 Traceback (most recent call last)",
      "File \u001b[0;32m/cm/shared/apps/python/3.10.12/lib/python3.10/site-packages/astropy/table/row.py:52\u001b[0m, in \u001b[0;36mRow.__getitem__\u001b[0;34m(self, item)\u001b[0m\n\u001b[1;32m     48\u001b[0m \u001b[38;5;28;01mtry\u001b[39;00m:\n\u001b[1;32m     49\u001b[0m     \u001b[38;5;66;03m# Try the most common use case of accessing a single column in the Row.\u001b[39;00m\n\u001b[1;32m     50\u001b[0m     \u001b[38;5;66;03m# Bypass the TableColumns __getitem__ since that does more testing\u001b[39;00m\n\u001b[1;32m     51\u001b[0m     \u001b[38;5;66;03m# and allows a list of tuple or str, which is not the right thing here.\u001b[39;00m\n\u001b[0;32m---> 52\u001b[0m     out \u001b[38;5;241m=\u001b[39m \u001b[43mOrderedDict\u001b[49m\u001b[38;5;241;43m.\u001b[39;49m\u001b[38;5;21;43m__getitem__\u001b[39;49m\u001b[43m(\u001b[49m\u001b[38;5;28;43mself\u001b[39;49m\u001b[38;5;241;43m.\u001b[39;49m\u001b[43m_table\u001b[49m\u001b[38;5;241;43m.\u001b[39;49m\u001b[43mcolumns\u001b[49m\u001b[43m,\u001b[49m\u001b[43m \u001b[49m\u001b[43mitem\u001b[49m\u001b[43m)\u001b[49m[\u001b[38;5;28mself\u001b[39m\u001b[38;5;241m.\u001b[39m_index]\n\u001b[1;32m     53\u001b[0m \u001b[38;5;28;01mexcept\u001b[39;00m (\u001b[38;5;167;01mKeyError\u001b[39;00m, \u001b[38;5;167;01mTypeError\u001b[39;00m):\n",
      "\u001b[0;31mTypeError\u001b[0m: unhashable type: 'slice'",
      "\nDuring handling of the above exception, another exception occurred:\n",
      "\u001b[0;31mIndexError\u001b[0m                                Traceback (most recent call last)",
      "Cell \u001b[0;32mIn[52], line 2\u001b[0m\n\u001b[1;32m      1\u001b[0m \u001b[38;5;28;01mfor\u001b[39;00m i \u001b[38;5;129;01min\u001b[39;00m table:\n\u001b[0;32m----> 2\u001b[0m     \u001b[38;5;28mprint\u001b[39m(\u001b[43mi\u001b[49m\u001b[43m[\u001b[49m\u001b[43m:\u001b[49m\u001b[38;5;241;43m9\u001b[39;49m\u001b[43m]\u001b[49m)\n",
      "File \u001b[0;32m/cm/shared/apps/python/3.10.12/lib/python3.10/site-packages/astropy/table/row.py:59\u001b[0m, in \u001b[0;36mRow.__getitem__\u001b[0;34m(self, item)\u001b[0m\n\u001b[1;32m     56\u001b[0m         out \u001b[38;5;241m=\u001b[39m \u001b[38;5;28mself\u001b[39m\u001b[38;5;241m.\u001b[39m_table\u001b[38;5;241m.\u001b[39m\u001b[38;5;18m__class__\u001b[39m(cols, copy\u001b[38;5;241m=\u001b[39m\u001b[38;5;28;01mFalse\u001b[39;00m)[\u001b[38;5;28mself\u001b[39m\u001b[38;5;241m.\u001b[39m_index]\n\u001b[1;32m     57\u001b[0m     \u001b[38;5;28;01melse\u001b[39;00m:\n\u001b[1;32m     58\u001b[0m         \u001b[38;5;66;03m# This is only to raise an exception\u001b[39;00m\n\u001b[0;32m---> 59\u001b[0m         out \u001b[38;5;241m=\u001b[39m \u001b[38;5;28;43mself\u001b[39;49m\u001b[38;5;241;43m.\u001b[39;49m\u001b[43m_table\u001b[49m\u001b[38;5;241;43m.\u001b[39;49m\u001b[43mcolumns\u001b[49m\u001b[43m[\u001b[49m\u001b[43mitem\u001b[49m\u001b[43m]\u001b[49m\u001b[43m[\u001b[49m\u001b[38;5;28;43mself\u001b[39;49m\u001b[38;5;241;43m.\u001b[39;49m\u001b[43m_index\u001b[49m\u001b[43m]\u001b[49m\n\u001b[1;32m     60\u001b[0m \u001b[38;5;28;01mreturn\u001b[39;00m out\n",
      "File \u001b[0;32m/cm/shared/apps/python/3.10.12/lib/python3.10/site-packages/astropy/table/table.py:266\u001b[0m, in \u001b[0;36mTableColumns.__getitem__\u001b[0;34m(self, item)\u001b[0m\n\u001b[1;32m    264\u001b[0m     \u001b[38;5;28;01mreturn\u001b[39;00m OrderedDict\u001b[38;5;241m.\u001b[39m\u001b[38;5;21m__getitem__\u001b[39m(\u001b[38;5;28mself\u001b[39m, item)\n\u001b[1;32m    265\u001b[0m \u001b[38;5;28;01melif\u001b[39;00m \u001b[38;5;28misinstance\u001b[39m(item, (\u001b[38;5;28mint\u001b[39m, np\u001b[38;5;241m.\u001b[39minteger)):\n\u001b[0;32m--> 266\u001b[0m     \u001b[38;5;28;01mreturn\u001b[39;00m \u001b[38;5;28;43mlist\u001b[39;49m\u001b[43m(\u001b[49m\u001b[38;5;28;43mself\u001b[39;49m\u001b[38;5;241;43m.\u001b[39;49m\u001b[43mvalues\u001b[49m\u001b[43m(\u001b[49m\u001b[43m)\u001b[49m\u001b[43m)\u001b[49m\u001b[43m[\u001b[49m\u001b[43mitem\u001b[49m\u001b[43m]\u001b[49m\n\u001b[1;32m    267\u001b[0m \u001b[38;5;28;01melif\u001b[39;00m (\n\u001b[1;32m    268\u001b[0m     \u001b[38;5;28misinstance\u001b[39m(item, np\u001b[38;5;241m.\u001b[39mndarray) \u001b[38;5;129;01mand\u001b[39;00m item\u001b[38;5;241m.\u001b[39mshape \u001b[38;5;241m==\u001b[39m () \u001b[38;5;129;01mand\u001b[39;00m item\u001b[38;5;241m.\u001b[39mdtype\u001b[38;5;241m.\u001b[39mkind \u001b[38;5;241m==\u001b[39m \u001b[38;5;124m\"\u001b[39m\u001b[38;5;124mi\u001b[39m\u001b[38;5;124m\"\u001b[39m\n\u001b[1;32m    269\u001b[0m ):\n\u001b[1;32m    270\u001b[0m     \u001b[38;5;28;01mreturn\u001b[39;00m \u001b[38;5;28mlist\u001b[39m(\u001b[38;5;28mself\u001b[39m\u001b[38;5;241m.\u001b[39mvalues())[item\u001b[38;5;241m.\u001b[39mitem()]\n",
      "\u001b[0;31mIndexError\u001b[0m: list index out of range"
     ]
    }
   ],
   "source": [
    "for i in table:\n",
    "    print(i[:9])\n",
    "    "
   ]
  },
  {
   "cell_type": "code",
   "execution_count": null,
   "id": "ac8b61dc-2ba1-4f24-a279-99e3590147d1",
   "metadata": {},
   "outputs": [],
   "source": []
  }
 ],
 "metadata": {
  "kernelspec": {
   "display_name": "ASTR 19",
   "language": "python",
   "name": "astr19"
  },
  "language_info": {
   "codemirror_mode": {
    "name": "ipython",
    "version": 3
   },
   "file_extension": ".py",
   "mimetype": "text/x-python",
   "name": "python",
   "nbconvert_exporter": "python",
   "pygments_lexer": "ipython3",
   "version": "3.10.12"
  }
 },
 "nbformat": 4,
 "nbformat_minor": 5
}
